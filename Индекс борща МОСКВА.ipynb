{
 "cells": [
  {
   "cell_type": "code",
   "execution_count": 1,
   "id": "auburn-compensation",
   "metadata": {},
   "outputs": [],
   "source": [
    "import numpy as np \n",
    "import pandas as pd\n",
    "import warnings\n",
    "warnings.filterwarnings('ignore')\n",
    "import csv\n",
    "import sympy"
   ]
  },
  {
   "cell_type": "markdown",
   "id": "another-clock",
   "metadata": {},
   "source": [
    "## Индекс \"Борщеца\""
   ]
  },
  {
   "cell_type": "markdown",
   "id": "clinical-compiler",
   "metadata": {},
   "source": [
    "Для чего нужно исследование ?\n",
    "\n",
    "Средняя стоимость продуктов в маркетах с доставкой растёт относительно всего рынка продуктов.\n",
    "Чтобы не остаться без покупателей онлайн-магазины предлагают вам купить продукты оптом, поэтому за основу моего исследования мы возьмём ситуацию, когда покупатель решил приготовить кастрюлю борщеца для гостей.\n",
    "Индекс борща как правило рассчитывается на семью из 4 человек, мы же с вами будем считать на 8 человек, потому как это наши реалии.\n",
    "Человек существо ленивое и мы хотим доставку продуктов на дом, а не кататься на рынок в поисках свежих продуктов перед приездом гостей.\n",
    "Поэтому я взял и купил продукты в разных магазинах с доставкой на дом."
   ]
  },
  {
   "cell_type": "markdown",
   "id": "framed-atlas",
   "metadata": {},
   "source": [
    "Итак первое что бъёт по кошельку покупателя это"
   ]
  },
  {
   "cell_type": "markdown",
   "id": "immune-exclusive",
   "metadata": {},
   "source": [
    "### ДОСТАВКА и МИНИМАЛЬНАЯ СУММА ЗАКАЗА."
   ]
  },
  {
   "cell_type": "code",
   "execution_count": 2,
   "id": "assumed-instrument",
   "metadata": {},
   "outputs": [
    {
     "data": {
      "text/html": [
       "<div>\n",
       "<style scoped>\n",
       "    .dataframe tbody tr th:only-of-type {\n",
       "        vertical-align: middle;\n",
       "    }\n",
       "\n",
       "    .dataframe tbody tr th {\n",
       "        vertical-align: top;\n",
       "    }\n",
       "\n",
       "    .dataframe thead th {\n",
       "        text-align: right;\n",
       "    }\n",
       "</style>\n",
       "<table border=\"1\" class=\"dataframe\">\n",
       "  <thead>\n",
       "    <tr style=\"text-align: right;\">\n",
       "      <th></th>\n",
       "      <th>Гипермаркет</th>\n",
       "      <th>Вкусвилл</th>\n",
       "      <th>Утконос</th>\n",
       "      <th>Ашан</th>\n",
       "      <th>Впрок</th>\n",
       "      <th>Окей</th>\n",
       "      <th>Метро</th>\n",
       "      <th>Азбука Вкуса</th>\n",
       "    </tr>\n",
       "  </thead>\n",
       "  <tbody>\n",
       "    <tr>\n",
       "      <th>0</th>\n",
       "      <td>Минимальная сумма заказа</td>\n",
       "      <td>0.00</td>\n",
       "      <td>345.00</td>\n",
       "      <td>1500.00</td>\n",
       "      <td>1000.00</td>\n",
       "      <td>999.00</td>\n",
       "      <td>1500.00</td>\n",
       "      <td>4000.0</td>\n",
       "    </tr>\n",
       "    <tr>\n",
       "      <th>1</th>\n",
       "      <td>Стоимость корзины</td>\n",
       "      <td>962.98</td>\n",
       "      <td>1195.97</td>\n",
       "      <td>627.17</td>\n",
       "      <td>1044.78</td>\n",
       "      <td>1182.46</td>\n",
       "      <td>796.68</td>\n",
       "      <td>1435.8</td>\n",
       "    </tr>\n",
       "    <tr>\n",
       "      <th>2</th>\n",
       "      <td>Доставка в р.</td>\n",
       "      <td>0.00</td>\n",
       "      <td>0.00</td>\n",
       "      <td>199.00</td>\n",
       "      <td>99.00</td>\n",
       "      <td>99.00</td>\n",
       "      <td>0.00</td>\n",
       "      <td>299.0</td>\n",
       "    </tr>\n",
       "  </tbody>\n",
       "</table>\n",
       "</div>"
      ],
      "text/plain": [
       "                Гипермаркет  Вкусвилл  Утконос     Ашан    Впрок     Окей  \\\n",
       "0  Минимальная сумма заказа      0.00   345.00  1500.00  1000.00   999.00   \n",
       "1         Стоимость корзины    962.98  1195.97   627.17  1044.78  1182.46   \n",
       "2             Доставка в р.      0.00     0.00   199.00    99.00    99.00   \n",
       "\n",
       "     Метро  Азбука Вкуса  \n",
       "0  1500.00        4000.0  \n",
       "1   796.68        1435.8  \n",
       "2     0.00         299.0  "
      ]
     },
     "execution_count": 2,
     "metadata": {},
     "output_type": "execute_result"
    }
   ],
   "source": [
    "df_delivery = pd.read_excel(r'C:\\Users\\Евген\\Desktop/BORCH Москва.xlsx', sheet_name='1')\n",
    "df_delivery"
   ]
  },
  {
   "cell_type": "markdown",
   "id": "honey-transport",
   "metadata": {},
   "source": [
    "Мда, \"Азбука вкуса\" знает как нас удивить.\n",
    "\n",
    "Однако её нельзя выкидывать из расчётов, так как все люди иногда любят чувствовать себя \"обеспеченными гражданами\".\n",
    "Или этот магазин ну прям рядом с вами и вы к борщу хотите ещё два тортика."
   ]
  },
  {
   "cell_type": "markdown",
   "id": "million-austin",
   "metadata": {},
   "source": [
    "Женёк, а что там с продуктами то ? Интересно же."
   ]
  },
  {
   "cell_type": "markdown",
   "id": "conditional-immigration",
   "metadata": {},
   "source": [
    "## По продуктам"
   ]
  },
  {
   "cell_type": "code",
   "execution_count": 3,
   "id": "following-breath",
   "metadata": {},
   "outputs": [
    {
     "data": {
      "text/html": [
       "<div>\n",
       "<style scoped>\n",
       "    .dataframe tbody tr th:only-of-type {\n",
       "        vertical-align: middle;\n",
       "    }\n",
       "\n",
       "    .dataframe tbody tr th {\n",
       "        vertical-align: top;\n",
       "    }\n",
       "\n",
       "    .dataframe thead th {\n",
       "        text-align: right;\n",
       "    }\n",
       "</style>\n",
       "<table border=\"1\" class=\"dataframe\">\n",
       "  <thead>\n",
       "    <tr style=\"text-align: right;\">\n",
       "      <th></th>\n",
       "      <th>Ингридиенты</th>\n",
       "      <th>Вкусвилл</th>\n",
       "      <th>Утконос</th>\n",
       "      <th>Ашан</th>\n",
       "      <th>Впрок</th>\n",
       "      <th>Окей</th>\n",
       "      <th>Метро</th>\n",
       "      <th>Азбука Вкуса</th>\n",
       "    </tr>\n",
       "  </thead>\n",
       "  <tbody>\n",
       "    <tr>\n",
       "      <th>0</th>\n",
       "      <td>Картофель</td>\n",
       "      <td>58.56</td>\n",
       "      <td>49.90</td>\n",
       "      <td>22.50</td>\n",
       "      <td>49.90</td>\n",
       "      <td>36.90</td>\n",
       "      <td>19.95</td>\n",
       "      <td>168.0</td>\n",
       "    </tr>\n",
       "    <tr>\n",
       "      <th>1</th>\n",
       "      <td>Капуста</td>\n",
       "      <td>90.20</td>\n",
       "      <td>74.85</td>\n",
       "      <td>34.49</td>\n",
       "      <td>134.73</td>\n",
       "      <td>44.40</td>\n",
       "      <td>44.90</td>\n",
       "      <td>195.0</td>\n",
       "    </tr>\n",
       "    <tr>\n",
       "      <th>2</th>\n",
       "      <td>Репчатый лук</td>\n",
       "      <td>29.07</td>\n",
       "      <td>29.90</td>\n",
       "      <td>17.50</td>\n",
       "      <td>19.95</td>\n",
       "      <td>29.90</td>\n",
       "      <td>22.50</td>\n",
       "      <td>24.0</td>\n",
       "    </tr>\n",
       "    <tr>\n",
       "      <th>3</th>\n",
       "      <td>Морковь</td>\n",
       "      <td>24.96</td>\n",
       "      <td>34.90</td>\n",
       "      <td>14.25</td>\n",
       "      <td>39.90</td>\n",
       "      <td>35.40</td>\n",
       "      <td>20.00</td>\n",
       "      <td>49.0</td>\n",
       "    </tr>\n",
       "    <tr>\n",
       "      <th>4</th>\n",
       "      <td>Свекла</td>\n",
       "      <td>22.96</td>\n",
       "      <td>23.92</td>\n",
       "      <td>12.50</td>\n",
       "      <td>29.90</td>\n",
       "      <td>28.40</td>\n",
       "      <td>13.45</td>\n",
       "      <td>34.0</td>\n",
       "    </tr>\n",
       "    <tr>\n",
       "      <th>5</th>\n",
       "      <td>Чеснок</td>\n",
       "      <td>72.00</td>\n",
       "      <td>49.90</td>\n",
       "      <td>39.99</td>\n",
       "      <td>49.90</td>\n",
       "      <td>118.90</td>\n",
       "      <td>79.90</td>\n",
       "      <td>78.0</td>\n",
       "    </tr>\n",
       "    <tr>\n",
       "      <th>6</th>\n",
       "      <td>Говядина</td>\n",
       "      <td>366.23</td>\n",
       "      <td>681.00</td>\n",
       "      <td>276.50</td>\n",
       "      <td>489.00</td>\n",
       "      <td>639.00</td>\n",
       "      <td>169.00</td>\n",
       "      <td>598.0</td>\n",
       "    </tr>\n",
       "    <tr>\n",
       "      <th>7</th>\n",
       "      <td>Лавровый лист</td>\n",
       "      <td>18.00</td>\n",
       "      <td>29.00</td>\n",
       "      <td>28.99</td>\n",
       "      <td>14.90</td>\n",
       "      <td>21.99</td>\n",
       "      <td>26.29</td>\n",
       "      <td>56.8</td>\n",
       "    </tr>\n",
       "    <tr>\n",
       "      <th>8</th>\n",
       "      <td>Столовый уксус 9%</td>\n",
       "      <td>46.00</td>\n",
       "      <td>57.90</td>\n",
       "      <td>39.99</td>\n",
       "      <td>57.90</td>\n",
       "      <td>46.99</td>\n",
       "      <td>194.00</td>\n",
       "      <td>67.7</td>\n",
       "    </tr>\n",
       "    <tr>\n",
       "      <th>9</th>\n",
       "      <td>Сметана 15%</td>\n",
       "      <td>68.00</td>\n",
       "      <td>52.90</td>\n",
       "      <td>34.99</td>\n",
       "      <td>54.90</td>\n",
       "      <td>53.90</td>\n",
       "      <td>52.90</td>\n",
       "      <td>45.0</td>\n",
       "    </tr>\n",
       "    <tr>\n",
       "      <th>10</th>\n",
       "      <td>Сахар</td>\n",
       "      <td>87.00</td>\n",
       "      <td>52.00</td>\n",
       "      <td>45.49</td>\n",
       "      <td>46.00</td>\n",
       "      <td>45.99</td>\n",
       "      <td>95.90</td>\n",
       "      <td>41.4</td>\n",
       "    </tr>\n",
       "    <tr>\n",
       "      <th>11</th>\n",
       "      <td>Соль</td>\n",
       "      <td>48.00</td>\n",
       "      <td>22.00</td>\n",
       "      <td>21.99</td>\n",
       "      <td>21.90</td>\n",
       "      <td>29.29</td>\n",
       "      <td>22.29</td>\n",
       "      <td>35.9</td>\n",
       "    </tr>\n",
       "    <tr>\n",
       "      <th>12</th>\n",
       "      <td>Хлеб</td>\n",
       "      <td>32.00</td>\n",
       "      <td>37.80</td>\n",
       "      <td>37.99</td>\n",
       "      <td>35.90</td>\n",
       "      <td>51.40</td>\n",
       "      <td>35.60</td>\n",
       "      <td>43.0</td>\n",
       "    </tr>\n",
       "  </tbody>\n",
       "</table>\n",
       "</div>"
      ],
      "text/plain": [
       "          Ингридиенты  Вкусвилл  Утконос    Ашан   Впрок    Окей   Метро  \\\n",
       "0           Картофель     58.56    49.90   22.50   49.90   36.90   19.95   \n",
       "1             Капуста     90.20    74.85   34.49  134.73   44.40   44.90   \n",
       "2        Репчатый лук     29.07    29.90   17.50   19.95   29.90   22.50   \n",
       "3             Морковь     24.96    34.90   14.25   39.90   35.40   20.00   \n",
       "4              Свекла     22.96    23.92   12.50   29.90   28.40   13.45   \n",
       "5              Чеснок     72.00    49.90   39.99   49.90  118.90   79.90   \n",
       "6            Говядина    366.23   681.00  276.50  489.00  639.00  169.00   \n",
       "7       Лавровый лист     18.00    29.00   28.99   14.90   21.99   26.29   \n",
       "8   Столовый уксус 9%     46.00    57.90   39.99   57.90   46.99  194.00   \n",
       "9         Сметана 15%     68.00    52.90   34.99   54.90   53.90   52.90   \n",
       "10              Сахар     87.00    52.00   45.49   46.00   45.99   95.90   \n",
       "11               Соль     48.00    22.00   21.99   21.90   29.29   22.29   \n",
       "12               Хлеб     32.00    37.80   37.99   35.90   51.40   35.60   \n",
       "\n",
       "    Азбука Вкуса  \n",
       "0          168.0  \n",
       "1          195.0  \n",
       "2           24.0  \n",
       "3           49.0  \n",
       "4           34.0  \n",
       "5           78.0  \n",
       "6          598.0  \n",
       "7           56.8  \n",
       "8           67.7  \n",
       "9           45.0  \n",
       "10          41.4  \n",
       "11          35.9  \n",
       "12          43.0  "
      ]
     },
     "execution_count": 3,
     "metadata": {},
     "output_type": "execute_result"
    }
   ],
   "source": [
    "df_ingridient = pd.read_excel(r'C:\\Users\\Евген\\Desktop/BORCH Москва.xlsx')\n",
    "df_ingridient"
   ]
  },
  {
   "cell_type": "markdown",
   "id": "concerned-winning",
   "metadata": {},
   "source": [
    "Посчитаем сумму покупок для каждого магазина"
   ]
  },
  {
   "cell_type": "code",
   "execution_count": 4,
   "id": "lucky-respondent",
   "metadata": {},
   "outputs": [],
   "source": [
    "df_sum = np.sum(df_ingridient)"
   ]
  },
  {
   "cell_type": "markdown",
   "id": "improved-scanning",
   "metadata": {},
   "source": [
    "## Сумма заказа в корзине"
   ]
  },
  {
   "cell_type": "code",
   "execution_count": 5,
   "id": "organizational-melbourne",
   "metadata": {},
   "outputs": [
    {
     "data": {
      "text/plain": [
       "Ингридиенты     КартофельКапустаРепчатый лукМорковьСвеклаЧесно...\n",
       "Вкусвилл                                                   962.98\n",
       "Утконос                                                   1195.97\n",
       "Ашан                                                       627.17\n",
       "Впрок                                                     1044.78\n",
       "Окей                                                      1182.46\n",
       "Метро                                                      796.68\n",
       "Азбука Вкуса                                               1435.8\n",
       "dtype: object"
      ]
     },
     "execution_count": 5,
     "metadata": {},
     "output_type": "execute_result"
    }
   ],
   "source": [
    "df_sum"
   ]
  },
  {
   "cell_type": "code",
   "execution_count": 6,
   "id": "blessed-fundamentals",
   "metadata": {},
   "outputs": [],
   "source": [
    "Sum_VK = 962.98\n",
    "Sum_UT = 1195.97\n",
    "Sum_AS = 627.17\n",
    "Sum_VP = 1044.78\n",
    "Sum_OK = 1182.46\n",
    "Sum_MC = 796.68\n",
    "Sum_AV = 1435.8"
   ]
  },
  {
   "cell_type": "markdown",
   "id": "seasonal-alabama",
   "metadata": {},
   "source": [
    "Конечная цена по продуктам представлена выше. Мы не берём за основу временную разницу в стоимости и скидки, так как все магазины могут предложить и бесплатную доставку и что-то со скидкой.Подобные акции - это просто одноразовые акции, а реальность - это реальность. "
   ]
  },
  {
   "cell_type": "markdown",
   "id": "regulated-edwards",
   "metadata": {},
   "source": [
    "### Даю тебе дорогой читатель больше поводов подумать в каком магазине купить продукты.\n",
    "\n",
    "Зная стоимость продуктов в корзине, нужно помнить о минимальной доставке."
   ]
  },
  {
   "cell_type": "code",
   "execution_count": 7,
   "id": "cheap-thailand",
   "metadata": {},
   "outputs": [],
   "source": [
    "min_delivery_VK = 0\n",
    "min_delivery_UT = 345\n",
    "min_delivery_AS = 1500\n",
    "min_delivery_VP = 1000\n",
    "min_delivery_OK = 999\n",
    "min_delivery_MC = 1500\n",
    "min_delivery_AV = 4000"
   ]
  },
  {
   "cell_type": "markdown",
   "id": "written-cemetery",
   "metadata": {},
   "source": [
    "Нам известна минимальная стоимость заказа"
   ]
  },
  {
   "cell_type": "code",
   "execution_count": 8,
   "id": "stock-minister",
   "metadata": {},
   "outputs": [],
   "source": [
    "cost_delivery_VK = 0\n",
    "cost_delivery_UT = 0\n",
    "cost_delivery_AS = 199\n",
    "cost_delivery_VP = 99\n",
    "cost_delivery_OK = 99\n",
    "cost_delivery_MC = 0\n",
    "cost_delivery_AV = 299"
   ]
  },
  {
   "cell_type": "markdown",
   "id": "positive-bryan",
   "metadata": {},
   "source": [
    "Стоимость доставки"
   ]
  },
  {
   "cell_type": "code",
   "execution_count": 9,
   "id": "prime-block",
   "metadata": {},
   "outputs": [],
   "source": [
    "total_VK = Sum_VK + cost_delivery_VK\n",
    "total_UT = Sum_UT + cost_delivery_UT\n",
    "total_AS = min_delivery_AS\n",
    "total_VP = Sum_VP + cost_delivery_VP\n",
    "total_OK = Sum_OK + cost_delivery_OK\n",
    "total_MC = min_delivery_MC\n",
    "total_AV = min_delivery_AV + cost_delivery_AV"
   ]
  },
  {
   "cell_type": "markdown",
   "id": "ranking-transfer",
   "metadata": {},
   "source": [
    "### Наша итоговая стоимость кастрюли по разным магазинам."
   ]
  },
  {
   "cell_type": "code",
   "execution_count": 10,
   "id": "joined-belgium",
   "metadata": {},
   "outputs": [
    {
     "name": "stdout",
     "output_type": "stream",
     "text": [
      "962.98\n",
      "1195.97\n",
      "1500\n",
      "1143.78\n",
      "1281.46\n",
      "1500\n",
      "4299\n"
     ]
    }
   ],
   "source": [
    "print(total_VK)\n",
    "print(total_UT)\n",
    "print(total_AS)\n",
    "print(total_VP)\n",
    "print(total_OK)\n",
    "print(total_MC)\n",
    "print(total_AV)"
   ]
  },
  {
   "cell_type": "markdown",
   "id": "accessory-cathedral",
   "metadata": {},
   "source": [
    "### Чтобы строить какие либо выводы, мы не должны забывать и об уровне дохода населения города.\n",
    "Возьмём данные по уровню доходов(к сожалению за 2019 год, это плохо знаю, но в 2022 году могу пересчитать модель, так как вообще то у нашей экономики сейчас дела ПЛОХО и данные тебе в открытых источниках мало кто даст)"
   ]
  },
  {
   "cell_type": "markdown",
   "id": "described-travel",
   "metadata": {},
   "source": [
    "Средняя зарплата по районам:\n",
    "                Ленинский\n",
    "                Центральный\n",
    "                Волгоградский\n",
    "                Волоколамский\n",
    "                Дмитровский\n",
    "                Варшавский\n",
    "                Ленинградский\n",
    "                Каширский\n",
    "                Кутузовский\n",
    "                Ярославский\n",
    "                Щелковский\n",
    "                Шоссе Энтузиастов\n",
    "                Зеленоградский"
   ]
  },
  {
   "cell_type": "code",
   "execution_count": 11,
   "id": "likely-parent",
   "metadata": {},
   "outputs": [],
   "source": [
    "mean_salary_Len = 52053\n",
    "mean_salary_Cen = 68381\n",
    "mean_salary_Vog = 41015\n",
    "mean_salary_Vok = 45271\n",
    "mean_salary_Dmt = 43514\n",
    "mean_salary_Var = 43969\n",
    "mean_salary_Lng = 49159\n",
    "mean_salary_Kas = 42157\n",
    "mean_salary_Kut = 48128\n",
    "mean_salary_Yar = 43682\n",
    "mean_salary_Shс = 43763\n",
    "mean_salary_Sho = 40550\n",
    "mean_salary_Zel = 38751"
   ]
  },
  {
   "cell_type": "markdown",
   "id": "reflected-archives",
   "metadata": {},
   "source": [
    "Вес корзины на момент оформления заказа."
   ]
  },
  {
   "cell_type": "code",
   "execution_count": 12,
   "id": "agreed-dominican",
   "metadata": {},
   "outputs": [],
   "source": [
    "basket_VK = 7.08\n",
    "basket_UT = 8.39\n",
    "basket_AS = 5.90\n",
    "basket_VP = 11.07\n",
    "basket_OK = 9.11\n",
    "basket_MC = 7.00\n",
    "basket_AV = 8.781"
   ]
  },
  {
   "cell_type": "markdown",
   "id": "focal-sociology",
   "metadata": {},
   "source": [
    "Ингридиенты для сума по рецепту суммарно весят 1.08. Поэтому посмотрим остаток в кг. после приготовления супа."
   ]
  },
  {
   "cell_type": "code",
   "execution_count": 13,
   "id": "criminal-depression",
   "metadata": {},
   "outputs": [],
   "source": [
    "difference_basket_VK = 5.21\n",
    "difference_basket_UT = 6.52\n",
    "difference_basket_AS = 4.03\n",
    "difference_basket_VP = 9.20\n",
    "difference_basket_OK = 7.24\n",
    "difference_basket_MC = 5.13\n",
    "difference_basket_AV = 6.91"
   ]
  },
  {
   "cell_type": "code",
   "execution_count": 14,
   "id": "familiar-cherry",
   "metadata": {},
   "outputs": [],
   "source": [
    "lst1 = [['Вкусвилл',962.80, difference_basket_VK], ['Утконос', 1195.97, difference_basket_UT], ['Ашан', 1699.00, difference_basket_AS], ['Впрок', 1143.78, difference_basket_VP], ['Окей', 1281.46, difference_basket_OK], ['Метро', 1500.00, difference_basket_MC], ['Азбука Вкуса', 4299.00, difference_basket_AV]]\n"
   ]
  },
  {
   "cell_type": "code",
   "execution_count": 15,
   "id": "sunrise-girlfriend",
   "metadata": {},
   "outputs": [],
   "source": [
    "market = pd.DataFrame(lst1, columns =['Name', 'Стоимость кастрюли','Остаток в кг'], dtype = float)"
   ]
  },
  {
   "cell_type": "markdown",
   "id": "close-wayne",
   "metadata": {},
   "source": [
    "### Стоимость супа и остаток продуктов в кг. после приготовления "
   ]
  },
  {
   "cell_type": "code",
   "execution_count": 16,
   "id": "viral-morrison",
   "metadata": {},
   "outputs": [
    {
     "data": {
      "text/html": [
       "<div>\n",
       "<style scoped>\n",
       "    .dataframe tbody tr th:only-of-type {\n",
       "        vertical-align: middle;\n",
       "    }\n",
       "\n",
       "    .dataframe tbody tr th {\n",
       "        vertical-align: top;\n",
       "    }\n",
       "\n",
       "    .dataframe thead th {\n",
       "        text-align: right;\n",
       "    }\n",
       "</style>\n",
       "<table border=\"1\" class=\"dataframe\">\n",
       "  <thead>\n",
       "    <tr style=\"text-align: right;\">\n",
       "      <th></th>\n",
       "      <th>Name</th>\n",
       "      <th>Стоимость кастрюли</th>\n",
       "      <th>Остаток в кг</th>\n",
       "    </tr>\n",
       "  </thead>\n",
       "  <tbody>\n",
       "    <tr>\n",
       "      <th>0</th>\n",
       "      <td>Вкусвилл</td>\n",
       "      <td>962.80</td>\n",
       "      <td>5.21</td>\n",
       "    </tr>\n",
       "    <tr>\n",
       "      <th>1</th>\n",
       "      <td>Утконос</td>\n",
       "      <td>1195.97</td>\n",
       "      <td>6.52</td>\n",
       "    </tr>\n",
       "    <tr>\n",
       "      <th>2</th>\n",
       "      <td>Ашан</td>\n",
       "      <td>1699.00</td>\n",
       "      <td>4.03</td>\n",
       "    </tr>\n",
       "    <tr>\n",
       "      <th>3</th>\n",
       "      <td>Впрок</td>\n",
       "      <td>1143.78</td>\n",
       "      <td>9.20</td>\n",
       "    </tr>\n",
       "    <tr>\n",
       "      <th>4</th>\n",
       "      <td>Окей</td>\n",
       "      <td>1281.46</td>\n",
       "      <td>7.24</td>\n",
       "    </tr>\n",
       "    <tr>\n",
       "      <th>5</th>\n",
       "      <td>Метро</td>\n",
       "      <td>1500.00</td>\n",
       "      <td>5.13</td>\n",
       "    </tr>\n",
       "    <tr>\n",
       "      <th>6</th>\n",
       "      <td>Азбука Вкуса</td>\n",
       "      <td>4299.00</td>\n",
       "      <td>6.91</td>\n",
       "    </tr>\n",
       "  </tbody>\n",
       "</table>\n",
       "</div>"
      ],
      "text/plain": [
       "           Name  Стоимость кастрюли  Остаток в кг\n",
       "0      Вкусвилл              962.80          5.21\n",
       "1       Утконос             1195.97          6.52\n",
       "2          Ашан             1699.00          4.03\n",
       "3         Впрок             1143.78          9.20\n",
       "4          Окей             1281.46          7.24\n",
       "5         Метро             1500.00          5.13\n",
       "6  Азбука Вкуса             4299.00          6.91"
      ]
     },
     "execution_count": 16,
     "metadata": {},
     "output_type": "execute_result"
    }
   ],
   "source": [
    "market"
   ]
  },
  {
   "cell_type": "markdown",
   "id": "mediterranean-mouse",
   "metadata": {},
   "source": [
    "Так как мы знаем, что индекс борща - это зарплата/стоимость кастрюли, то мы можем посчитать индекс борща по всем нашим районам Москвы."
   ]
  },
  {
   "cell_type": "code",
   "execution_count": 17,
   "id": "legitimate-desktop",
   "metadata": {},
   "outputs": [],
   "source": [
    "lst2=[['Ленинский'\t, \t54.05\t, \t43.52\t, \t30.64\t, \t45.51\t, \t40.62\t, \t34.70\t, \t12.11\t], ['Центральный'\t, \t71.01\t, \t57.18\t, \t40.25\t, \t59.79\t, \t53.36\t, \t45.59\t, \t15.91\t], ['Волгоградский', \t42.59\t, \t34.29\t, \t24.14\t, \t35.86\t, \t32.01\t, \t27.34\t, \t9.54\t], ['Волоколамский', \t47.01\t, \t37.85\t, \t26.65\t, \t39.58\t, \t35.33\t, \t30.18\t, \t10.53\t], ['Дмитровский', \t45.19\t, \t36.38\t, \t25.61\t, \t38.04\t, \t33.96\t, \t29.01\t, \t10.12\t], ['Варшавский', \t45.66\t, \t36.76\t, \t25.88\t, \t38.44\t, \t34.31\t, \t29.31\t, \t10.23\t], ['Ленинградский', \t51.05\t, \t41.10\t, \t28.93\t, \t42.98\t, \t38.36\t, \t32.77\t, \t11.43\t], ['Каширский', \t43.78\t, \t35.25\t, \t24.81\t, \t36.86\t, \t32.90\t, \t28.10\t, \t9.81\t], ['Кутузовский', \t49.98\t, \t40.24\t, \t28.33\t, \t42.08\t, \t37.56\t, \t32.09\t, \t11.20\t], ['Ярославский', \t45.36\t, \t36.52\t, \t25.71\t, \t38.19\t, \t34.09\t, \t29.12\t, \t10.16\t], ['Щелковский', \t45.45\t, \t36.59\t, \t25.76\t, \t38.26\t, \t34.15\t, \t29.18\t, \t10.18\t], ['Шоссе Энтузиастов', \t42.11\t, \t33.91\t, \t23.87\t, \t35.45\t, \t31.64\t, \t27.03\t, \t9.43\t], ['Зеленоградский', \t40.24\t, \t32.40\t, \t22.81\t, \t33.88\t, \t30.24\t, \t25.83\t, \t9.01\t]]"
   ]
  },
  {
   "cell_type": "code",
   "execution_count": 18,
   "id": "classified-korea",
   "metadata": {},
   "outputs": [],
   "source": [
    "pot_borch = pd.DataFrame(lst2, columns =['Район', 'Вкусвилл', 'Утконос', 'Ашан', 'Впрок', 'Окей', 'Метро', 'Азбука Вкуса'], dtype = float)"
   ]
  },
  {
   "cell_type": "markdown",
   "id": "prime-oklahoma",
   "metadata": {},
   "source": [
    "### Создав необходимые массивы создадим таблицу для отображения результата."
   ]
  },
  {
   "cell_type": "code",
   "execution_count": 19,
   "id": "worldwide-copper",
   "metadata": {},
   "outputs": [
    {
     "data": {
      "text/html": [
       "<div>\n",
       "<style scoped>\n",
       "    .dataframe tbody tr th:only-of-type {\n",
       "        vertical-align: middle;\n",
       "    }\n",
       "\n",
       "    .dataframe tbody tr th {\n",
       "        vertical-align: top;\n",
       "    }\n",
       "\n",
       "    .dataframe thead th {\n",
       "        text-align: right;\n",
       "    }\n",
       "</style>\n",
       "<table border=\"1\" class=\"dataframe\">\n",
       "  <thead>\n",
       "    <tr style=\"text-align: right;\">\n",
       "      <th></th>\n",
       "      <th>Район</th>\n",
       "      <th>Вкусвилл</th>\n",
       "      <th>Утконос</th>\n",
       "      <th>Ашан</th>\n",
       "      <th>Впрок</th>\n",
       "      <th>Окей</th>\n",
       "      <th>Метро</th>\n",
       "      <th>Азбука Вкуса</th>\n",
       "    </tr>\n",
       "  </thead>\n",
       "  <tbody>\n",
       "    <tr>\n",
       "      <th>0</th>\n",
       "      <td>Ленинский</td>\n",
       "      <td>54.05</td>\n",
       "      <td>43.52</td>\n",
       "      <td>30.64</td>\n",
       "      <td>45.51</td>\n",
       "      <td>40.62</td>\n",
       "      <td>34.70</td>\n",
       "      <td>12.11</td>\n",
       "    </tr>\n",
       "    <tr>\n",
       "      <th>1</th>\n",
       "      <td>Центральный</td>\n",
       "      <td>71.01</td>\n",
       "      <td>57.18</td>\n",
       "      <td>40.25</td>\n",
       "      <td>59.79</td>\n",
       "      <td>53.36</td>\n",
       "      <td>45.59</td>\n",
       "      <td>15.91</td>\n",
       "    </tr>\n",
       "    <tr>\n",
       "      <th>2</th>\n",
       "      <td>Волгоградский</td>\n",
       "      <td>42.59</td>\n",
       "      <td>34.29</td>\n",
       "      <td>24.14</td>\n",
       "      <td>35.86</td>\n",
       "      <td>32.01</td>\n",
       "      <td>27.34</td>\n",
       "      <td>9.54</td>\n",
       "    </tr>\n",
       "    <tr>\n",
       "      <th>3</th>\n",
       "      <td>Волоколамский</td>\n",
       "      <td>47.01</td>\n",
       "      <td>37.85</td>\n",
       "      <td>26.65</td>\n",
       "      <td>39.58</td>\n",
       "      <td>35.33</td>\n",
       "      <td>30.18</td>\n",
       "      <td>10.53</td>\n",
       "    </tr>\n",
       "    <tr>\n",
       "      <th>4</th>\n",
       "      <td>Дмитровский</td>\n",
       "      <td>45.19</td>\n",
       "      <td>36.38</td>\n",
       "      <td>25.61</td>\n",
       "      <td>38.04</td>\n",
       "      <td>33.96</td>\n",
       "      <td>29.01</td>\n",
       "      <td>10.12</td>\n",
       "    </tr>\n",
       "    <tr>\n",
       "      <th>5</th>\n",
       "      <td>Варшавский</td>\n",
       "      <td>45.66</td>\n",
       "      <td>36.76</td>\n",
       "      <td>25.88</td>\n",
       "      <td>38.44</td>\n",
       "      <td>34.31</td>\n",
       "      <td>29.31</td>\n",
       "      <td>10.23</td>\n",
       "    </tr>\n",
       "    <tr>\n",
       "      <th>6</th>\n",
       "      <td>Ленинградский</td>\n",
       "      <td>51.05</td>\n",
       "      <td>41.10</td>\n",
       "      <td>28.93</td>\n",
       "      <td>42.98</td>\n",
       "      <td>38.36</td>\n",
       "      <td>32.77</td>\n",
       "      <td>11.43</td>\n",
       "    </tr>\n",
       "    <tr>\n",
       "      <th>7</th>\n",
       "      <td>Каширский</td>\n",
       "      <td>43.78</td>\n",
       "      <td>35.25</td>\n",
       "      <td>24.81</td>\n",
       "      <td>36.86</td>\n",
       "      <td>32.90</td>\n",
       "      <td>28.10</td>\n",
       "      <td>9.81</td>\n",
       "    </tr>\n",
       "    <tr>\n",
       "      <th>8</th>\n",
       "      <td>Кутузовский</td>\n",
       "      <td>49.98</td>\n",
       "      <td>40.24</td>\n",
       "      <td>28.33</td>\n",
       "      <td>42.08</td>\n",
       "      <td>37.56</td>\n",
       "      <td>32.09</td>\n",
       "      <td>11.20</td>\n",
       "    </tr>\n",
       "    <tr>\n",
       "      <th>9</th>\n",
       "      <td>Ярославский</td>\n",
       "      <td>45.36</td>\n",
       "      <td>36.52</td>\n",
       "      <td>25.71</td>\n",
       "      <td>38.19</td>\n",
       "      <td>34.09</td>\n",
       "      <td>29.12</td>\n",
       "      <td>10.16</td>\n",
       "    </tr>\n",
       "    <tr>\n",
       "      <th>10</th>\n",
       "      <td>Щелковский</td>\n",
       "      <td>45.45</td>\n",
       "      <td>36.59</td>\n",
       "      <td>25.76</td>\n",
       "      <td>38.26</td>\n",
       "      <td>34.15</td>\n",
       "      <td>29.18</td>\n",
       "      <td>10.18</td>\n",
       "    </tr>\n",
       "    <tr>\n",
       "      <th>11</th>\n",
       "      <td>Шоссе Энтузиастов</td>\n",
       "      <td>42.11</td>\n",
       "      <td>33.91</td>\n",
       "      <td>23.87</td>\n",
       "      <td>35.45</td>\n",
       "      <td>31.64</td>\n",
       "      <td>27.03</td>\n",
       "      <td>9.43</td>\n",
       "    </tr>\n",
       "    <tr>\n",
       "      <th>12</th>\n",
       "      <td>Зеленоградский</td>\n",
       "      <td>40.24</td>\n",
       "      <td>32.40</td>\n",
       "      <td>22.81</td>\n",
       "      <td>33.88</td>\n",
       "      <td>30.24</td>\n",
       "      <td>25.83</td>\n",
       "      <td>9.01</td>\n",
       "    </tr>\n",
       "  </tbody>\n",
       "</table>\n",
       "</div>"
      ],
      "text/plain": [
       "                Район  Вкусвилл  Утконос   Ашан  Впрок   Окей  Метро  \\\n",
       "0           Ленинский     54.05    43.52  30.64  45.51  40.62  34.70   \n",
       "1         Центральный     71.01    57.18  40.25  59.79  53.36  45.59   \n",
       "2       Волгоградский     42.59    34.29  24.14  35.86  32.01  27.34   \n",
       "3       Волоколамский     47.01    37.85  26.65  39.58  35.33  30.18   \n",
       "4         Дмитровский     45.19    36.38  25.61  38.04  33.96  29.01   \n",
       "5          Варшавский     45.66    36.76  25.88  38.44  34.31  29.31   \n",
       "6       Ленинградский     51.05    41.10  28.93  42.98  38.36  32.77   \n",
       "7           Каширский     43.78    35.25  24.81  36.86  32.90  28.10   \n",
       "8         Кутузовский     49.98    40.24  28.33  42.08  37.56  32.09   \n",
       "9         Ярославский     45.36    36.52  25.71  38.19  34.09  29.12   \n",
       "10         Щелковский     45.45    36.59  25.76  38.26  34.15  29.18   \n",
       "11  Шоссе Энтузиастов     42.11    33.91  23.87  35.45  31.64  27.03   \n",
       "12     Зеленоградский     40.24    32.40  22.81  33.88  30.24  25.83   \n",
       "\n",
       "    Азбука Вкуса  \n",
       "0          12.11  \n",
       "1          15.91  \n",
       "2           9.54  \n",
       "3          10.53  \n",
       "4          10.12  \n",
       "5          10.23  \n",
       "6          11.43  \n",
       "7           9.81  \n",
       "8          11.20  \n",
       "9          10.16  \n",
       "10         10.18  \n",
       "11          9.43  \n",
       "12          9.01  "
      ]
     },
     "execution_count": 19,
     "metadata": {},
     "output_type": "execute_result"
    }
   ],
   "source": [
    "pot_borch"
   ]
  },
  {
   "cell_type": "markdown",
   "id": "alone-partner",
   "metadata": {},
   "source": [
    "Цифры цифрами, а на графике оно всё же будет понятней. Поэтому построим модель линейной регрессии, перед этим естесственно проверим есть ли связь между данными через ковариацию. В конце проверим качество модели через \"Коэффициент детерминации\"."
   ]
  },
  {
   "cell_type": "markdown",
   "id": "human-beaver",
   "metadata": {},
   "source": [
    "Если вам не интересны превращение цифр в массивы данных, то перейдите к пункту \"Зависимость признаков\"."
   ]
  },
  {
   "cell_type": "code",
   "execution_count": 20,
   "id": "aggressive-declaration",
   "metadata": {},
   "outputs": [
    {
     "name": "stdout",
     "output_type": "stream",
     "text": [
      "0    54.05\n",
      "Name: Вкусвилл, dtype: float64\n",
      "0    962.8\n",
      "Name: Стоимость кастрюли, dtype: float64\n"
     ]
    }
   ],
   "source": [
    "print(pot_borch['Вкусвилл'][0:1])\n",
    "print(market['Стоимость кастрюли'][0:1])"
   ]
  },
  {
   "cell_type": "code",
   "execution_count": 21,
   "id": "defensive-retention",
   "metadata": {},
   "outputs": [],
   "source": [
    "massiv1 = (pot_borch['Вкусвилл'])\n",
    "massiv2 = (pot_borch['Утконос'])\n",
    "massiv3 = (pot_borch['Ашан'])\n",
    "massiv4 = (pot_borch['Впрок'])\n",
    "massiv5 = (pot_borch['Окей'])\n",
    "massiv6 = (pot_borch['Метро'])\n",
    "massiv7 = (pot_borch['Азбука Вкуса'])"
   ]
  },
  {
   "cell_type": "code",
   "execution_count": 22,
   "id": "detected-equilibrium",
   "metadata": {},
   "outputs": [],
   "source": [
    "df1 = np.array([massiv1])\n",
    "df2 = np.array([massiv2])\n",
    "df3 = np.array([massiv3])\n",
    "df4 = np.array([massiv4])\n",
    "df5 = np.array([massiv5])\n",
    "df6 = np.array([massiv6])\n",
    "df7 = np.array([massiv7])"
   ]
  },
  {
   "cell_type": "code",
   "execution_count": 23,
   "id": "former-seeker",
   "metadata": {},
   "outputs": [
    {
     "data": {
      "text/plain": [
       "array([[54.05, 71.01, 42.59, 47.01, 45.19, 45.66, 51.05, 43.78, 49.98,\n",
       "        45.36, 45.45, 42.11, 40.24]])"
      ]
     },
     "execution_count": 23,
     "metadata": {},
     "output_type": "execute_result"
    }
   ],
   "source": [
    "df1"
   ]
  },
  {
   "cell_type": "code",
   "execution_count": 24,
   "id": "physical-vegetable",
   "metadata": {},
   "outputs": [],
   "source": [
    "mean_salary_Len = 52053\n",
    "mean_salary_Cen = 68381\n",
    "mean_salary_Vog = 41015\n",
    "mean_salary_Vok = 45271\n",
    "mean_salary_Dmt = 43514\n",
    "mean_salary_Var = 43969\n",
    "mean_salary_Lng = 49159\n",
    "mean_salary_Kas = 42157\n",
    "mean_salary_Kut = 48128\n",
    "mean_salary_Yar = 43682\n",
    "mean_salary_Shс = 43763\n",
    "mean_salary_Sho = 40550\n",
    "mean_salary_Zel = 38751"
   ]
  },
  {
   "cell_type": "code",
   "execution_count": 25,
   "id": "adopted-giant",
   "metadata": {},
   "outputs": [],
   "source": [
    "df_mean_salary = np.array([52.05, 68.38, 41.01, 45.27, 43.51, 43.96, 49.15, 42.15, 48.12, 43.68, 43.76, 40.55, 38.75])"
   ]
  },
  {
   "cell_type": "code",
   "execution_count": 26,
   "id": "intense-kenya",
   "metadata": {},
   "outputs": [
    {
     "data": {
      "text/plain": [
       "array([52.05, 68.38, 41.01, 45.27, 43.51, 43.96, 49.15, 42.15, 48.12,\n",
       "       43.68, 43.76, 40.55, 38.75])"
      ]
     },
     "execution_count": 26,
     "metadata": {},
     "output_type": "execute_result"
    }
   ],
   "source": [
    "df_mean_salary"
   ]
  },
  {
   "cell_type": "code",
   "execution_count": 27,
   "id": "global-struggle",
   "metadata": {},
   "outputs": [],
   "source": [
    "n = 13\n",
    "X = df1\n",
    "Y = df_mean_salary"
   ]
  },
  {
   "cell_type": "code",
   "execution_count": 28,
   "id": "driven-islam",
   "metadata": {},
   "outputs": [
    {
     "data": {
      "text/plain": [
       "array([[62.4229    , 60.11653333],\n",
       "       [60.11653333, 57.8954    ]])"
      ]
     },
     "execution_count": 28,
     "metadata": {},
     "output_type": "execute_result"
    }
   ],
   "source": [
    "np.cov(X, Y)"
   ]
  },
  {
   "cell_type": "markdown",
   "id": "bizarre-sharp",
   "metadata": {},
   "source": [
    "Функция вернула нам матрицу ковариаций. В ней по диагонали стоят вариации (т.е. дисперсии) каждой из выборок, а вне диагонали — попарные ковариации."
   ]
  },
  {
   "cell_type": "markdown",
   "id": "direct-respect",
   "metadata": {},
   "source": [
    "Чтобы окончательно убедиться, что я не тронулся и заввисимость есть определим её другим способом."
   ]
  },
  {
   "cell_type": "markdown",
   "id": "radical-horse",
   "metadata": {},
   "source": [
    "### Зависимость признаков"
   ]
  },
  {
   "cell_type": "code",
   "execution_count": 29,
   "id": "southern-wisdom",
   "metadata": {},
   "outputs": [
    {
     "data": {
      "text/plain": [
       "array([[1.        , 0.99999984],\n",
       "       [0.99999984, 1.        ]])"
      ]
     },
     "execution_count": 29,
     "metadata": {},
     "output_type": "execute_result"
    }
   ],
   "source": [
    "np.corrcoef(X, Y)"
   ]
  },
  {
   "cell_type": "markdown",
   "id": "elder-faculty",
   "metadata": {},
   "source": [
    "Итак мы видим, что у нас корреляция диагональная и значения равны. А значит зависимость между нашими признаками заработной платой и индексом \"борщеца\" имеется."
   ]
  },
  {
   "cell_type": "markdown",
   "id": "normal-religion",
   "metadata": {},
   "source": [
    "Однако коэффициенты корреляции позволяют установить лишь само наличие и выяснить направление этой связи.\n",
    "Определить, насколько сильно изменяется одна переменная под воздействием другой, он не в силах.\n",
    "Эта разница математически описывается с помощью коэффициента b1. Он определяется как тангенс угла между линией \"индекса борщеца\" и горизонтальной оси x \"заработной платы\". \n",
    "Чем больше индекс борща, тем больше порций у вас будет в зависимости от уровня заработной платы.\n",
    "Можно выразиться и так: при увеличении индекса борща на одну единицу заработная плата будет возрастать на b1."
   ]
  },
  {
   "cell_type": "code",
   "execution_count": 30,
   "id": "mobile-starter",
   "metadata": {},
   "outputs": [
    {
     "data": {
      "text/html": [
       "<div>\n",
       "<style scoped>\n",
       "    .dataframe tbody tr th:only-of-type {\n",
       "        vertical-align: middle;\n",
       "    }\n",
       "\n",
       "    .dataframe tbody tr th {\n",
       "        vertical-align: top;\n",
       "    }\n",
       "\n",
       "    .dataframe thead th {\n",
       "        text-align: right;\n",
       "    }\n",
       "</style>\n",
       "<table border=\"1\" class=\"dataframe\">\n",
       "  <thead>\n",
       "    <tr style=\"text-align: right;\">\n",
       "      <th></th>\n",
       "      <th>Вкусвилл</th>\n",
       "      <th>Утконос</th>\n",
       "      <th>Ашан</th>\n",
       "      <th>Впрок</th>\n",
       "      <th>Окей</th>\n",
       "      <th>Метро</th>\n",
       "      <th>Азбука Вкуса</th>\n",
       "    </tr>\n",
       "  </thead>\n",
       "  <tbody>\n",
       "    <tr>\n",
       "      <th>count</th>\n",
       "      <td>13.000000</td>\n",
       "      <td>13.000000</td>\n",
       "      <td>13.000000</td>\n",
       "      <td>13.000000</td>\n",
       "      <td>13.000000</td>\n",
       "      <td>13.000000</td>\n",
       "      <td>13.000000</td>\n",
       "    </tr>\n",
       "    <tr>\n",
       "      <th>mean</th>\n",
       "      <td>47.960000</td>\n",
       "      <td>38.614615</td>\n",
       "      <td>27.183846</td>\n",
       "      <td>40.378462</td>\n",
       "      <td>36.040769</td>\n",
       "      <td>30.788462</td>\n",
       "      <td>10.743077</td>\n",
       "    </tr>\n",
       "    <tr>\n",
       "      <th>std</th>\n",
       "      <td>7.900816</td>\n",
       "      <td>6.362896</td>\n",
       "      <td>4.478708</td>\n",
       "      <td>6.653698</td>\n",
       "      <td>5.936821</td>\n",
       "      <td>5.073856</td>\n",
       "      <td>1.771202</td>\n",
       "    </tr>\n",
       "    <tr>\n",
       "      <th>min</th>\n",
       "      <td>40.240000</td>\n",
       "      <td>32.400000</td>\n",
       "      <td>22.810000</td>\n",
       "      <td>33.880000</td>\n",
       "      <td>30.240000</td>\n",
       "      <td>25.830000</td>\n",
       "      <td>9.010000</td>\n",
       "    </tr>\n",
       "    <tr>\n",
       "      <th>25%</th>\n",
       "      <td>43.780000</td>\n",
       "      <td>35.250000</td>\n",
       "      <td>24.810000</td>\n",
       "      <td>36.860000</td>\n",
       "      <td>32.900000</td>\n",
       "      <td>28.100000</td>\n",
       "      <td>9.810000</td>\n",
       "    </tr>\n",
       "    <tr>\n",
       "      <th>50%</th>\n",
       "      <td>45.450000</td>\n",
       "      <td>36.590000</td>\n",
       "      <td>25.760000</td>\n",
       "      <td>38.260000</td>\n",
       "      <td>34.150000</td>\n",
       "      <td>29.180000</td>\n",
       "      <td>10.180000</td>\n",
       "    </tr>\n",
       "    <tr>\n",
       "      <th>75%</th>\n",
       "      <td>49.980000</td>\n",
       "      <td>40.240000</td>\n",
       "      <td>28.330000</td>\n",
       "      <td>42.080000</td>\n",
       "      <td>37.560000</td>\n",
       "      <td>32.090000</td>\n",
       "      <td>11.200000</td>\n",
       "    </tr>\n",
       "    <tr>\n",
       "      <th>max</th>\n",
       "      <td>71.010000</td>\n",
       "      <td>57.180000</td>\n",
       "      <td>40.250000</td>\n",
       "      <td>59.790000</td>\n",
       "      <td>53.360000</td>\n",
       "      <td>45.590000</td>\n",
       "      <td>15.910000</td>\n",
       "    </tr>\n",
       "  </tbody>\n",
       "</table>\n",
       "</div>"
      ],
      "text/plain": [
       "        Вкусвилл    Утконос       Ашан      Впрок       Окей      Метро  \\\n",
       "count  13.000000  13.000000  13.000000  13.000000  13.000000  13.000000   \n",
       "mean   47.960000  38.614615  27.183846  40.378462  36.040769  30.788462   \n",
       "std     7.900816   6.362896   4.478708   6.653698   5.936821   5.073856   \n",
       "min    40.240000  32.400000  22.810000  33.880000  30.240000  25.830000   \n",
       "25%    43.780000  35.250000  24.810000  36.860000  32.900000  28.100000   \n",
       "50%    45.450000  36.590000  25.760000  38.260000  34.150000  29.180000   \n",
       "75%    49.980000  40.240000  28.330000  42.080000  37.560000  32.090000   \n",
       "max    71.010000  57.180000  40.250000  59.790000  53.360000  45.590000   \n",
       "\n",
       "       Азбука Вкуса  \n",
       "count     13.000000  \n",
       "mean      10.743077  \n",
       "std        1.771202  \n",
       "min        9.010000  \n",
       "25%        9.810000  \n",
       "50%       10.180000  \n",
       "75%       11.200000  \n",
       "max       15.910000  "
      ]
     },
     "execution_count": 30,
     "metadata": {},
     "output_type": "execute_result"
    }
   ],
   "source": [
    "pot_borch.describe()"
   ]
  },
  {
   "cell_type": "markdown",
   "id": "thorough-bhutan",
   "metadata": {},
   "source": [
    "Чтобы понять устраивающий нас индекс \"борщеца\", а не превратить исследование в битву магазинов, возьмём средние значения."
   ]
  },
  {
   "cell_type": "code",
   "execution_count": 31,
   "id": "common-scanning",
   "metadata": {},
   "outputs": [],
   "source": [
    "df_mean_pot = np.array([37.31,49.01,29.40,32.45,31.19,31.51,35.23,30.22,34.49,31.31,31.37,29.06,27.77])\n"
   ]
  },
  {
   "cell_type": "code",
   "execution_count": 32,
   "id": "expressed-munich",
   "metadata": {},
   "outputs": [],
   "source": [
    "n = 13\n",
    "\n",
    "x = df_mean_salary\n",
    "y = df_mean_pot"
   ]
  },
  {
   "cell_type": "code",
   "execution_count": 33,
   "id": "bigger-exploration",
   "metadata": {},
   "outputs": [
    {
     "data": {
      "text/plain": [
       "0.7166696317842162"
      ]
     },
     "execution_count": 33,
     "metadata": {},
     "output_type": "execute_result"
    }
   ],
   "source": [
    "b = (np.mean(x * y) - np.mean(x) * np.mean(y)) / (np.mean(x**2) - np.mean(x) ** 2)\n",
    "b"
   ]
  },
  {
   "cell_type": "code",
   "execution_count": 34,
   "id": "listed-listening",
   "metadata": {},
   "outputs": [
    {
     "data": {
      "text/plain": [
       "0.005734865743356465"
      ]
     },
     "execution_count": 34,
     "metadata": {},
     "output_type": "execute_result"
    }
   ],
   "source": [
    "a = np.mean(y) - b * np.mean(x)\n",
    "a"
   ]
  },
  {
   "cell_type": "code",
   "execution_count": 35,
   "id": "bored-timber",
   "metadata": {},
   "outputs": [
    {
     "data": {
      "text/plain": [
       "0.9999997647471951"
      ]
     },
     "execution_count": 35,
     "metadata": {},
     "output_type": "execute_result"
    }
   ],
   "source": [
    "r = b * np.std(x) / np.std(y)\n",
    "r"
   ]
  },
  {
   "cell_type": "code",
   "execution_count": 36,
   "id": "biblical-meaning",
   "metadata": {},
   "outputs": [
    {
     "data": {
      "text/plain": [
       "0.9999995294944455"
      ]
     },
     "execution_count": 36,
     "metadata": {},
     "output_type": "execute_result"
    }
   ],
   "source": [
    "R2 = r**2\n",
    "R2"
   ]
  },
  {
   "cell_type": "code",
   "execution_count": 37,
   "id": "middle-region",
   "metadata": {},
   "outputs": [
    {
     "data": {
      "text/plain": [
       "array([37.31, 49.01, 29.4 , 32.45, 31.19, 31.51, 35.23, 30.22, 34.49,\n",
       "       31.31, 31.37, 29.06, 27.77])"
      ]
     },
     "execution_count": 37,
     "metadata": {},
     "output_type": "execute_result"
    }
   ],
   "source": [
    "df_mean_pot"
   ]
  },
  {
   "cell_type": "markdown",
   "id": "color-starter",
   "metadata": {},
   "source": [
    "### Проверим наши данные модели."
   ]
  },
  {
   "cell_type": "code",
   "execution_count": 38,
   "id": "polar-sharing",
   "metadata": {},
   "outputs": [
    {
     "data": {
      "text/plain": [
       "array([37.3083892 , 49.01160429, 29.39635647, 32.4493691 , 31.18803054,\n",
       "       31.51053188, 35.23004727, 30.21335985, 34.49187755, 31.30986438,\n",
       "       31.36719795, 29.06668843, 27.7766831 ])"
      ]
     },
     "execution_count": 38,
     "metadata": {},
     "output_type": "execute_result"
    }
   ],
   "source": [
    "y_pred = a + b * x\n",
    "y_pred"
   ]
  },
  {
   "cell_type": "code",
   "execution_count": 39,
   "id": "portable-attachment",
   "metadata": {},
   "outputs": [
    {
     "data": {
      "text/plain": [
       "array([37.31, 49.01, 29.4 , 32.45, 31.19, 31.51, 35.23, 30.21, 34.49,\n",
       "       31.31, 31.37, 29.07, 27.78])"
      ]
     },
     "execution_count": 39,
     "metadata": {},
     "output_type": "execute_result"
    }
   ],
   "source": [
    "rounded_df = y_pred.round(decimals=2)\n",
    "\n",
    "rounded_df"
   ]
  },
  {
   "cell_type": "code",
   "execution_count": 40,
   "id": "vertical-transparency",
   "metadata": {},
   "outputs": [
    {
     "data": {
      "text/plain": [
       "array([37.31, 49.01, 29.4 , 32.45, 31.19, 31.51, 35.23, 30.21, 34.49,\n",
       "       31.31, 31.37, 29.07, 27.78])"
      ]
     },
     "execution_count": 40,
     "metadata": {},
     "output_type": "execute_result"
    }
   ],
   "source": [
    "y_pred = rounded_df\n",
    "\n",
    "y_pred"
   ]
  },
  {
   "cell_type": "code",
   "execution_count": 41,
   "id": "accepted-sailing",
   "metadata": {},
   "outputs": [
    {
     "data": {
      "text/plain": [
       "0.007962485656894228"
      ]
     },
     "execution_count": 41,
     "metadata": {},
     "output_type": "execute_result"
    }
   ],
   "source": [
    "A_mean = 100 * np.mean(np.abs((y - y_pred) / y))\n",
    "A_mean"
   ]
  },
  {
   "cell_type": "code",
   "execution_count": 42,
   "id": "sonic-grain",
   "metadata": {},
   "outputs": [
    {
     "data": {
      "text/plain": [
       "23379096.630906448"
      ]
     },
     "execution_count": 42,
     "metadata": {},
     "output_type": "execute_result"
    }
   ],
   "source": [
    "F_fact = (r**2 * (n - 2)) / (1 - r**2)\n",
    "F_fact"
   ]
  },
  {
   "cell_type": "code",
   "execution_count": 43,
   "id": "strange-carol",
   "metadata": {},
   "outputs": [
    {
     "name": "stdout",
     "output_type": "stream",
     "text": [
      "s_residual = 0.005222329678671133\n",
      "m_a = 0.009263606933115112\n",
      "m_b = 0.0001981306354160121\n"
     ]
    }
   ],
   "source": [
    "s_residual = np.sqrt(np.sum((y - y_pred)**2) / (n - 2))\n",
    "m_a = s_residual * np.sqrt(np.sum(x ** 2)) / (n * np.std(x))\n",
    "m_b = s_residual / (np.std(x) * np.sqrt(n))\n",
    "\n",
    "print('s_residual = {}\\nm_a = {}\\nm_b = {}'.format(s_residual, m_a, m_b))"
   ]
  },
  {
   "cell_type": "code",
   "execution_count": 44,
   "id": "narrow-bookmark",
   "metadata": {},
   "outputs": [
    {
     "data": {
      "text/plain": [
       "array([52.05, 68.38, 41.01, 45.27, 43.51, 43.96, 49.15, 42.15, 48.12,\n",
       "       43.68, 43.76, 40.55, 38.75])"
      ]
     },
     "execution_count": 44,
     "metadata": {},
     "output_type": "execute_result"
    }
   ],
   "source": [
    "x"
   ]
  },
  {
   "cell_type": "code",
   "execution_count": 45,
   "id": "advanced-egyptian",
   "metadata": {},
   "outputs": [
    {
     "data": {
      "text/plain": [
       "array([37.31, 49.01, 29.4 , 32.45, 31.19, 31.51, 35.23, 30.22, 34.49,\n",
       "       31.31, 31.37, 29.06, 27.77])"
      ]
     },
     "execution_count": 45,
     "metadata": {},
     "output_type": "execute_result"
    }
   ],
   "source": [
    "y"
   ]
  },
  {
   "cell_type": "code",
   "execution_count": 46,
   "id": "controlling-three",
   "metadata": {},
   "outputs": [
    {
     "data": {
      "text/plain": [
       "array([37.31, 49.01, 29.4 , 32.45, 31.19, 31.51, 35.23, 30.21, 34.49,\n",
       "       31.31, 31.37, 29.07, 27.78])"
      ]
     },
     "execution_count": 46,
     "metadata": {},
     "output_type": "execute_result"
    }
   ],
   "source": [
    "y_pred"
   ]
  },
  {
   "cell_type": "code",
   "execution_count": 47,
   "id": "magnetic-feature",
   "metadata": {},
   "outputs": [
    {
     "data": {
      "text/plain": [
       "(0.005734865743356465, 0.7166696317842162)"
      ]
     },
     "execution_count": 47,
     "metadata": {},
     "output_type": "execute_result"
    }
   ],
   "source": [
    "b1 = (np.mean(x * y) - np.mean(x) * np.mean(y)) / (np.mean(x ** 2) - np.mean(x) ** 2)\n",
    "b0 = np.mean(y) - b1 * np.mean(x)\n",
    "\n",
    "b0, b1"
   ]
  },
  {
   "cell_type": "markdown",
   "id": "expensive-excess",
   "metadata": {},
   "source": [
    "Итак, модель линейной регрессии имеет вид:\n",
    "𝑦=0.005+0.71⋅𝑥,\n",
    " \n",
    "т.е. с увеличением стоимости ингридиентов \"Индекса борща\" на 1-цу цена возрастет на 0.71 тыс.руб . \n",
    "Визуализируем полученные результаты на графике."
   ]
  },
  {
   "cell_type": "code",
   "execution_count": 48,
   "id": "major-assets",
   "metadata": {},
   "outputs": [],
   "source": [
    "from matplotlib import pyplot as plt\n",
    "plt.style.use('seaborn-whitegrid')"
   ]
  },
  {
   "cell_type": "code",
   "execution_count": 49,
   "id": "aware-relaxation",
   "metadata": {
    "scrolled": true
   },
   "outputs": [
    {
     "data": {
      "image/png": "[encoded data removed]",
      "text/plain": [
       "<Figure size 432x288 with 1 Axes>"
      ]
     },
     "metadata": {},
     "output_type": "display_data"
    }
   ],
   "source": [
    "ox = x\n",
    "oy = b0 + b1 * ox\n",
    "\n",
    "plt.scatter(x, y)\n",
    "plt.plot(ox, oy, color='red', alpha=0.5)\n",
    "\n",
    "plt.xlabel('Средняя заработная плата')\n",
    "plt.ylabel('Индекс борща');"
   ]
  },
  {
   "cell_type": "markdown",
   "id": "individual-bracket",
   "metadata": {},
   "source": [
    "Чего-то на модели не хватает, уж слишком всё прозрачно. \n",
    "Посмотрим иначе."
   ]
  },
  {
   "cell_type": "markdown",
   "id": "muslim-collective",
   "metadata": {},
   "source": [
    "Чтобы оценить модель правильно, мы должны взять индекс борща за 2021 год (102 за 4 порции, однако мы измеряем кастрюлей. ЭТО 8 ПОРЦИЙ, поэтому наш Индекс равен 51) и среднюю заработную плату по всем районам Москвы и пересмотреть данные модели."
   ]
  },
  {
   "cell_type": "code",
   "execution_count": 50,
   "id": "after-firewall",
   "metadata": {},
   "outputs": [],
   "source": [
    "n = 14\n",
    "\n",
    "x = np.array([52.05, 68.38, 41.01, 45.27, 43.51, 43.96, 49.15, 42.15, 48.12,\n",
    "       43.68, 43.76, 40.55, 38.75, 46.18])\n",
    "y = np.array([37.31, 49.01, 29.4 , 32.45, 31.19, 31.51, 35.23, 30.22, 34.49,\n",
    "       31.31, 31.37, 29.06, 27.77, 51.00])"
   ]
  },
  {
   "cell_type": "code",
   "execution_count": 51,
   "id": "orange-reduction",
   "metadata": {},
   "outputs": [
    {
     "name": "stdout",
     "output_type": "stream",
     "text": [
      "s_residual = 4.979323916624289\n",
      "m_a = 8.824837088795936\n",
      "m_b = 0.1889112086454784\n"
     ]
    },
    {
     "data": {
      "text/plain": [
       "(1.284196404204927, 0.7166696317842156)"
      ]
     },
     "execution_count": 51,
     "metadata": {},
     "output_type": "execute_result"
    }
   ],
   "source": [
    "b = (np.mean(x * y) - np.mean(x) * np.mean(y)) / (np.mean(x**2) - np.mean(x) ** 2)\n",
    "a = np.mean(y) - b * np.mean(x)\n",
    "y_pred = a + b * x\n",
    "rounded_df = y_pred.round(decimals=2)\n",
    "y_pred = rounded_df\n",
    "\n",
    "A_mean = 100 * np.mean(np.abs((y - y_pred) / y))\n",
    "\n",
    "s_residual = np.sqrt(np.sum((y - y_pred)**2) / (n - 2))\n",
    "m_a = s_residual * np.sqrt(np.sum(x ** 2)) / (n * np.std(x))\n",
    "m_b = s_residual / (np.std(x) * np.sqrt(n))\n",
    "\n",
    "print('s_residual = {}\\nm_a = {}\\nm_b = {}'.format(s_residual, m_a, m_b))\n",
    "\n",
    "b1 = (np.mean(x * y) - np.mean(x) * np.mean(y)) / (np.mean(x ** 2) - np.mean(x) ** 2)\n",
    "b0 = np.mean(y) - b1 * np.mean(x)\n",
    "\n",
    "b0, b1"
   ]
  },
  {
   "cell_type": "code",
   "execution_count": 52,
   "id": "optical-cliff",
   "metadata": {},
   "outputs": [
    {
     "data": {
      "image/png": "[encoded data removed]",
      "text/plain": [
       "<Figure size 432x288 with 1 Axes>"
      ]
     },
     "metadata": {},
     "output_type": "display_data"
    }
   ],
   "source": [
    "ox = x\n",
    "oy = b0 + b1 * ox\n",
    "\n",
    "plt.scatter(x, y)\n",
    "plt.plot(ox, oy, color='red', alpha=0.5)\n",
    "\n",
    "plt.xlabel('Средняя заработная плата')\n",
    "plt.ylabel('Индекс борща');"
   ]
  },
  {
   "cell_type": "markdown",
   "id": "random-client",
   "metadata": {},
   "source": [
    "### Есть над чем подумать"
   ]
  },
  {
   "cell_type": "markdown",
   "id": "intellectual-prototype",
   "metadata": {},
   "source": [
    "Вот наша реальность.\n",
    "\n",
    "На графике вы можете видеть насколько высока стоимость борщевого набора в маркетах относительно рыночной стоимости. "
   ]
  },
  {
   "cell_type": "markdown",
   "id": "experienced-startup",
   "metadata": {},
   "source": [
    "Берём заработную плату среднюю по Москве 46 184р и делим её на индекс борща 51, чтобы понять сколько должна реально стоить касрюля борщеца (на 8 человек!). "
   ]
  },
  {
   "cell_type": "code",
   "execution_count": 53,
   "id": "handy-assault",
   "metadata": {},
   "outputs": [
    {
     "data": {
      "text/plain": [
       "905.5686274509804"
      ]
     },
     "execution_count": 53,
     "metadata": {},
     "output_type": "execute_result"
    }
   ],
   "source": [
    "real_price = 46184 / 51\n",
    "real_price"
   ]
  },
  {
   "cell_type": "markdown",
   "id": "neither-mechanics",
   "metadata": {},
   "source": [
    "Чтобы не скролить вверх, отобразим данные по ценам ещё раз. "
   ]
  },
  {
   "cell_type": "code",
   "execution_count": 57,
   "id": "greenhouse-reserve",
   "metadata": {},
   "outputs": [
    {
     "data": {
      "text/html": [
       "<div>\n",
       "<style scoped>\n",
       "    .dataframe tbody tr th:only-of-type {\n",
       "        vertical-align: middle;\n",
       "    }\n",
       "\n",
       "    .dataframe tbody tr th {\n",
       "        vertical-align: top;\n",
       "    }\n",
       "\n",
       "    .dataframe thead th {\n",
       "        text-align: right;\n",
       "    }\n",
       "</style>\n",
       "<table border=\"1\" class=\"dataframe\">\n",
       "  <thead>\n",
       "    <tr style=\"text-align: right;\">\n",
       "      <th></th>\n",
       "      <th>Name</th>\n",
       "      <th>Стоимость кастрюли</th>\n",
       "      <th>Остаток в кг</th>\n",
       "    </tr>\n",
       "  </thead>\n",
       "  <tbody>\n",
       "    <tr>\n",
       "      <th>0</th>\n",
       "      <td>Вкусвилл</td>\n",
       "      <td>962.80</td>\n",
       "      <td>5.21</td>\n",
       "    </tr>\n",
       "    <tr>\n",
       "      <th>1</th>\n",
       "      <td>Утконос</td>\n",
       "      <td>1195.97</td>\n",
       "      <td>6.52</td>\n",
       "    </tr>\n",
       "    <tr>\n",
       "      <th>2</th>\n",
       "      <td>Ашан</td>\n",
       "      <td>1699.00</td>\n",
       "      <td>4.03</td>\n",
       "    </tr>\n",
       "    <tr>\n",
       "      <th>3</th>\n",
       "      <td>Впрок</td>\n",
       "      <td>1143.78</td>\n",
       "      <td>9.20</td>\n",
       "    </tr>\n",
       "    <tr>\n",
       "      <th>4</th>\n",
       "      <td>Окей</td>\n",
       "      <td>1281.46</td>\n",
       "      <td>7.24</td>\n",
       "    </tr>\n",
       "    <tr>\n",
       "      <th>5</th>\n",
       "      <td>Метро</td>\n",
       "      <td>1500.00</td>\n",
       "      <td>5.13</td>\n",
       "    </tr>\n",
       "    <tr>\n",
       "      <th>6</th>\n",
       "      <td>Азбука Вкуса</td>\n",
       "      <td>4299.00</td>\n",
       "      <td>6.91</td>\n",
       "    </tr>\n",
       "  </tbody>\n",
       "</table>\n",
       "</div>"
      ],
      "text/plain": [
       "           Name  Стоимость кастрюли  Остаток в кг\n",
       "0      Вкусвилл              962.80          5.21\n",
       "1       Утконос             1195.97          6.52\n",
       "2          Ашан             1699.00          4.03\n",
       "3         Впрок             1143.78          9.20\n",
       "4          Окей             1281.46          7.24\n",
       "5         Метро             1500.00          5.13\n",
       "6  Азбука Вкуса             4299.00          6.91"
      ]
     },
     "execution_count": 57,
     "metadata": {},
     "output_type": "execute_result"
    }
   ],
   "source": [
    "market"
   ]
  },
  {
   "cell_type": "markdown",
   "id": "hydraulic-insider",
   "metadata": {},
   "source": [
    "Проверим нашу модель линейной регрессии на качество с помощью коэффициента детерминации"
   ]
  },
  {
   "cell_type": "code",
   "execution_count": 55,
   "id": "descending-football",
   "metadata": {},
   "outputs": [
    {
     "data": {
      "image/png": "[encoded data removed]",
      "text/plain": [
       "<Figure size 648x288 with 2 Axes>"
      ]
     },
     "metadata": {},
     "output_type": "display_data"
    }
   ],
   "source": [
    "fig, (ax1, ax2) = plt.subplots(ncols=2)\n",
    "fig.set_size_inches(9, 4)\n",
    "\n",
    "x, y = np.random.multivariate_normal(mean=[0, 0], cov=[[1, 0.9], [0.9, 1]], size=200).T\n",
    "b1_ = np.cov(x, y)[0, 1] / np.var(x)\n",
    "b0_ = y.mean() - b1_ * x.mean()\n",
    "\n",
    "ax1.scatter(x, y)\n",
    "ax1.plot(x, b0_ + b1_ * x, color='red', alpha=0.5)\n",
    "ax1.set_title(f'Коэффициент детерминации: {round(np.corrcoef(x, y)[0, 1] ** 2, 2)}')\n",
    "\n",
    "x, y = np.random.multivariate_normal(mean=[0, 0], cov=[[1, 0.4], [0.4, 1]], size=200).T\n",
    "b1_ = np.cov(x, y)[0, 1] / np.var(x)\n",
    "b0_ = y.mean() - b1_ * x.mean()\n",
    "\n",
    "ax2.scatter(x, y)\n",
    "ax2.plot(x, b0_ + b1_ * x, color='red', alpha=0.5)\n",
    "ax2.set_title(f'Коэффициент детерминации: {round(np.corrcoef(x, y)[0, 1] ** 2, 2)}')\n",
    "\n",
    "plt.show()"
   ]
  },
  {
   "cell_type": "markdown",
   "id": "handy-adrian",
   "metadata": {},
   "source": [
    "Коэффициент детерминации для линейной регрессии равен квадрату коэффициента корреляции.\n",
    "R 2= 0.99 ** 2 = 0.98, т.е. в 82% случаев изменения х приводят к изменению y. Другими словами - точность подбора уравнения регрессии - высокая"
   ]
  },
  {
   "cell_type": "markdown",
   "id": "objective-effectiveness",
   "metadata": {},
   "source": [
    "Итоги:\n",
    "1) Индекс борща штука полезная и реально мы можем смотреть и сравнивать разные данные.\n",
    "\n",
    "2) Уровень заработной платы можно измерять в кастрюлях.\n",
    "\n",
    "3) Каждый магазин имеет свой уровень цен и многие из них не сильно отличаются от рыночных, а значит, \n",
    "что разница \"индекса борща\" не отличается между тем, что ты сходишь на рынок или закажешь продукты с доставкой.\n",
    "Поэтому смотрите внимательно на минимальную сумму заказа и заказывайте продукты на дом в ваших любимых магазинах.\n",
    "Ведь если у вас нет рынка через дорогу, то вы затратите больше сил и усилий найти те самые продукты по той самой цене.\n",
    "\n",
    "### Выбор за вами.\n"
   ]
  }
 ],
 "metadata": {
  "kernelspec": {
   "display_name": "Python 3",
   "language": "python",
   "name": "python3"
  },
  "language_info": {
   "codemirror_mode": {
    "name": "ipython",
    "version": 3
   },
   "file_extension": ".py",
   "mimetype": "text/x-python",
   "name": "python",
   "nbconvert_exporter": "python",
   "pygments_lexer": "ipython3",
   "version": "3.8.5"
  }
 },
 "nbformat": 4,
 "nbformat_minor": 5
}
